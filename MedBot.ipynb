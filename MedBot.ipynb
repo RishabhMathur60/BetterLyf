{
 "cells": [
  {
   "cell_type": "code",
   "execution_count": 1,
   "id": "f2238f35",
   "metadata": {},
   "outputs": [],
   "source": [
    "import re\n",
    "import pandas as pd\n",
    "import numpy as np\n",
    "from sklearn import preprocessing\n",
    "from sklearn.model_selection import train_test_split\n",
    "from sklearn.model_selection import cross_val_score\n",
    "from sklearn.svm import SVC\n",
    "from sklearn.tree import DecisionTreeClassifier, _tree\n",
    "import csv\n",
    "import warnings"
   ]
  },
  {
   "cell_type": "code",
   "execution_count": 2,
   "id": "250191ed",
   "metadata": {},
   "outputs": [],
   "source": [
    "training = pd.read_csv('Training_Dataset.csv')\n",
    "testing = pd.read_csv('Testing_Dataset.csv')\n",
    "columns = training.columns\n",
    "columns = columns[:-1]\n",
    "x = training[columns]\n",
    "y = training['Prognosis']\n",
    "y1 = y"
   ]
  },
  {
   "cell_type": "code",
   "execution_count": 3,
   "id": "17c88c11",
   "metadata": {},
   "outputs": [],
   "source": [
    "less_data = training.groupby(training['Prognosis']).max()"
   ]
  },
  {
   "cell_type": "code",
   "execution_count": 4,
   "id": "496786b9",
   "metadata": {},
   "outputs": [],
   "source": [
    "warnings.filterwarnings(\"ignore\", category=DeprecationWarning)"
   ]
  },
  {
   "cell_type": "code",
   "execution_count": 5,
   "id": "d965433f",
   "metadata": {},
   "outputs": [],
   "source": [
    "lea = preprocessing.LabelEncoder()\n",
    "lea.fit(y)\n",
    "y = lea.transform(y)\n",
    "\n",
    "x_train, x_test, y_train, y_test = train_test_split(x, y, test_size=0.33, random_state=42)\n",
    "testx = testing[columns]\n",
    "testy = testing['Prognosis']\n",
    "testy = lea.transform(testy)\n",
    "\n",
    "clf1 = DecisionTreeClassifier()\n",
    "clf = clf1.fit(x_train, y_train)"
   ]
  },
  {
   "cell_type": "code",
   "execution_count": 6,
   "id": "29aed1b0",
   "metadata": {},
   "outputs": [
    {
     "name": "stdout",
     "output_type": "stream",
     "text": [
      "0.979069328586077\n"
     ]
    }
   ],
   "source": [
    "scores = cross_val_score(clf, x_test, y_test, cv=3)\n",
    "print(scores.mean())"
   ]
  },
  {
   "cell_type": "code",
   "execution_count": 7,
   "id": "3e820345",
   "metadata": {},
   "outputs": [
    {
     "name": "stdout",
     "output_type": "stream",
     "text": [
      "for svm: \n",
      "1.0\n"
     ]
    }
   ],
   "source": [
    "model = SVC()\n",
    "model.fit(x_train, y_train)\n",
    "print(\"for svm: \")\n",
    "print(model.score(x_test, y_test))"
   ]
  },
  {
   "cell_type": "code",
   "execution_count": 8,
   "id": "e94a8438",
   "metadata": {},
   "outputs": [],
   "source": [
    "importances = clf.feature_importances_\n",
    "indices = np.argsort(importances)[::-1]\n",
    "features = columns"
   ]
  },
  {
   "cell_type": "code",
   "execution_count": 9,
   "id": "41ed45b3",
   "metadata": {},
   "outputs": [],
   "source": [
    "SeverityDictionary = dict()\n",
    "Description_list = dict()\n",
    "PrecautionDictionary = dict()\n",
    "\n",
    "Symptoms_Dict = {}\n",
    "\n",
    "for index, symptom in enumerate(x):\n",
    "    Symptoms_Dict[symptom] = index"
   ]
  },
  {
   "cell_type": "code",
   "execution_count": 10,
   "id": "6407f749",
   "metadata": {},
   "outputs": [],
   "source": [
    "def getprecautionDict():\n",
    "    global PrecautionDictionary\n",
    "    with open('Precaution.csv') as csv_file:\n",
    "        csv_reader = csv.reader(csv_file, delimiter=',')\n",
    "        line_count = 0\n",
    "        for row in csv_reader:\n",
    "            _prec = {row[0]: [row[1], row[2], row[3], row[4]]}\n",
    "            PrecautionDictionary.update(_prec)"
   ]
  },
  {
   "cell_type": "code",
   "execution_count": 11,
   "id": "616415d5",
   "metadata": {},
   "outputs": [],
   "source": [
    "def getSeverityDict():\n",
    "    global SeverityDictionary\n",
    "    with open('Severity.csv') as csv_file:\n",
    "        csv_reader = csv.reader(csv_file, delimiter=',')\n",
    "        line_count = 0\n",
    "        try:\n",
    "            for row in csv_reader:\n",
    "                _diction = {row[0]: int(row[1])}\n",
    "                SeverityDictionary.update(_diction)\n",
    "        except:\n",
    "            pass"
   ]
  },
  {
   "cell_type": "code",
   "execution_count": 12,
   "id": "1222656f",
   "metadata": {},
   "outputs": [],
   "source": [
    "def getDescription():\n",
    "    global description_list\n",
    "    with open('Description.csv') as csv_file:\n",
    "        csv_reader = csv.reader(csv_file, delimiter=',')\n",
    "        line_count = 0\n",
    "        for row in csv_reader:\n",
    "            _description = {row[0]: row[1]}\n",
    "            Description_list.update(_description)"
   ]
  },
  {
   "cell_type": "code",
   "execution_count": 13,
   "id": "cca8c043",
   "metadata": {},
   "outputs": [],
   "source": [
    "def calc_condition(exp, days):\n",
    "    sum = 0\n",
    "    for item in exp:\n",
    "        sum = sum + SeverityDictionary[item]\n",
    "    if ((sum * days) / (len(exp) + 1) > 13):\n",
    "        print(\"\\nIt would be advisable for you to consult a physician.\")\n",
    "    else:\n",
    "        print(\"\\nIt might not be as bad as you think, but you should still take precautions.\")"
   ]
  },
  {
   "cell_type": "code",
   "execution_count": 14,
   "id": "f260ddaa",
   "metadata": {},
   "outputs": [],
   "source": [
    "def getInfo():\n",
    "    print(\"-----------------------------------MED BOT-----------------------------------\")\n",
    "    print(\"Your Name Please?\", end=\"  ->  \")\n",
    "    name = input(\"\")\n",
    "    print(\"Hello,\", name)"
   ]
  },
  {
   "cell_type": "code",
   "execution_count": 15,
   "id": "5b293a84",
   "metadata": {},
   "outputs": [],
   "source": [
    "def check_pattern(dis_list, inp):\n",
    "    pred_list = []\n",
    "    inp = inp.replace(' ', '_')\n",
    "    patt = f\"{inp}\"\n",
    "    regexp = re.compile(patt)\n",
    "    pred_list = [item for item in dis_list if regexp.search(item)]\n",
    "    if (len(pred_list) > 0):\n",
    "        return 1, pred_list\n",
    "    else:\n",
    "        return 0, []"
   ]
  },
  {
   "cell_type": "code",
   "execution_count": 16,
   "id": "03782c9b",
   "metadata": {},
   "outputs": [],
   "source": [
    "def sec_predict(Symptoms_Exp):\n",
    "    df = pd.read_csv('Training_Dataset.csv')\n",
    "    X = df.iloc[:, :-1]\n",
    "    y = df['Prognosis']\n",
    "    X_train, X_test, y_train, y_test = train_test_split(X, y, test_size=0.3, random_state=20)\n",
    "    rf_clf = DecisionTreeClassifier()\n",
    "    rf_clf.fit(X_train, y_train)\n",
    "\n",
    "    Symptoms_Dict = {symptom: index for index, symptom in enumerate(X)}\n",
    "    input_vector = np.zeros(len(Symptoms_Dict))\n",
    "    for item in Symptoms_Exp:\n",
    "        input_vector[[Symptoms_Dict[item]]] = 1\n",
    "\n",
    "    return rf_clf.predict([input_vector])"
   ]
  },
  {
   "cell_type": "code",
   "execution_count": 17,
   "id": "2c36b167",
   "metadata": {},
   "outputs": [],
   "source": [
    "def print_disease(node):\n",
    "    node = node[0]\n",
    "    val = node.nonzero()\n",
    "    disease = lea.inverse_transform(val[0])\n",
    "    return list(map(lambda x: x.strip(), list(disease)))"
   ]
  },
  {
   "cell_type": "code",
   "execution_count": 18,
   "id": "42215755",
   "metadata": {},
   "outputs": [],
   "source": [
    "def tree_to_code(tree, feature_names):\n",
    "    tree_ = tree.tree_\n",
    "    feature_name = [\n",
    "        feature_names[i] if i != _tree.TREE_UNDEFINED else \"undefined!\"\n",
    "        for i in tree_.feature\n",
    "    ]\n",
    "\n",
    "    chk_dis = \",\".join(feature_names).split(\",\")\n",
    "    symptoms_present = []\n",
    "    \n",
    "    while True:\n",
    "        print(\"\\nFeel free to tell your symptom which you're experiencing\", end=\"  -> \")\n",
    "        disease_input = input(\"\")\n",
    "        conf, cnf_dis = check_pattern(chk_dis, disease_input)\n",
    "        if conf == 1:\n",
    "            print(\"\\nProblem you can have according to your symptom:\")\n",
    "            for num, it in enumerate(cnf_dis):\n",
    "                print(num, \")\", it)\n",
    "            if num != 0:\n",
    "                print(f\"Select the one you meant (0 - {num}):  \", end=\"\")\n",
    "                conf_inp = int(input(\"\"))\n",
    "            else:\n",
    "                conf_inp = 0\n",
    "\n",
    "            disease_input = cnf_dis[conf_inp]\n",
    "            break\n",
    "        else:\n",
    "            print(\"\\nPlease Enter a Valid Symptom.\")\n",
    "\n",
    "    while True:\n",
    "        try:\n",
    "            num_days = int(input(\"\\nOkay. From How Many Days you? : \"))\n",
    "            break\n",
    "        except:\n",
    "            print(\"Please Enter a Valid Input.\")\n",
    "\n",
    "    def recurse(node, depth):\n",
    "        indent = \"  \" * depth\n",
    "        if tree_.feature[node] != _tree.TREE_UNDEFINED:\n",
    "            name = feature_name[node]\n",
    "            threshold = tree_.threshold[node]\n",
    "\n",
    "            if name == disease_input:\n",
    "                val = 1\n",
    "            else:\n",
    "                val = 0\n",
    "            if val <= threshold:\n",
    "                recurse(tree_.children_left[node], depth + 1)\n",
    "            else:\n",
    "                symptoms_present.append(name)\n",
    "                recurse(tree_.children_right[node], depth + 1)\n",
    "        else:\n",
    "            present_disease = print_disease(tree_.value[node])\n",
    "            red_columns = less_data.columns\n",
    "            symptoms_given = red_columns[less_data.loc[present_disease].values[0].nonzero()]\n",
    "            print(\"\\nAre you experiencing any \")\n",
    "            Symptoms_Exp = []\n",
    "            for syms in list(symptoms_given):\n",
    "                inp = \"\"\n",
    "                print(syms, \"?: \", end='')\n",
    "                while True:\n",
    "                    inp = input(\"\")\n",
    "                    if (inp == \"yes\" or inp == \"no\"):\n",
    "                        break\n",
    "                    else:\n",
    "                        print(\"\\nPlease Provide a Proper Valid Answers i.e. (yes/no) : \", end=\"\")\n",
    "                if (inp == \"yes\"):\n",
    "                    Symptoms_Exp.append(syms)\n",
    "\n",
    "            second_prediction = sec_predict(Symptoms_Exp)\n",
    "            calc_condition(Symptoms_Exp, num_days)\n",
    "            if (present_disease[0] == second_prediction[0]):\n",
    "                print(\"\\nYou may have\", present_disease[0])\n",
    "                print()\n",
    "                print(Description_list[present_disease[0]])\n",
    "\n",
    "            else:\n",
    "                print(\"You may have\", present_disease[0], \"or\", second_prediction[0])\n",
    "                print()\n",
    "                print(Description_list[present_disease[0]])\n",
    "                print(Description_list[second_prediction[0]])\n",
    "\n",
    "            precution_list = PrecautionDictionary[present_disease[0]]\n",
    "            print(\"\\nTake following measures :\")\n",
    "            for i, j in enumerate(precution_list):\n",
    "                print(i + 1, \")\", j)\n",
    "\n",
    "    recurse(0, 1)\n",
    "    "
   ]
  },
  {
   "cell_type": "code",
   "execution_count": 19,
   "id": "c780478f",
   "metadata": {},
   "outputs": [
    {
     "name": "stdout",
     "output_type": "stream",
     "text": [
      "-----------------------------------MED BOT-----------------------------------\n",
      "Your Name Please?  ->  Rishabh\n",
      "Hello, Rishabh\n",
      "\n",
      "Feel free to tell your symptom which you're experiencing  -> fever\n",
      "\n",
      "Problem you can have according to your symptom:\n",
      "0 ) high_fever\n",
      "1 ) mild_fever\n",
      "Select the one you meant (0 - 1):  1\n",
      "\n",
      "Okay. From How Many Days you? : 3\n",
      "\n",
      "Are you experiencing any \n",
      "itching ?: no\n",
      "skin_rash ?: no\n",
      "fatigue ?: yes\n",
      "lethargy ?: yes\n",
      "high_fever ?: no\n",
      "headache ?: yes\n",
      "loss_of_appetite ?: no\n",
      "mild_fever ?: yes\n",
      "swelled_lymph_nodes ?: no\n",
      "malaise ?: yes\n",
      "red_spots_over_body ?: no\n",
      "\n",
      "It might not be as bad as you think, but you should still take precautions.\n",
      "\n",
      "You may have Chicken pox\n",
      "\n",
      "Chickenpox is a highly contagious disease caused by the varicella-zoster virus (VZV). It can cause an itchy, blister-like rash. The rash first appears on the chest, back, and face, and then spreads over the entire body, causing between 250 and 500 itchy blisters.\n",
      "\n",
      "Take following measures :\n",
      "1 ) use neem in bathing \n",
      "2 ) consume neem leaves\n",
      "3 ) take vaccine\n",
      "4 ) avoid public places\n",
      "----------------------------------------------------------------------------------------\n"
     ]
    },
    {
     "name": "stderr",
     "output_type": "stream",
     "text": [
      "C:\\ProgramData\\Anaconda3\\lib\\site-packages\\sklearn\\base.py:450: UserWarning: X does not have valid feature names, but DecisionTreeClassifier was fitted with feature names\n",
      "  warnings.warn(\n"
     ]
    }
   ],
   "source": [
    "getSeverityDict()\n",
    "getDescription()\n",
    "getprecautionDict()\n",
    "getInfo()\n",
    "tree_to_code(clf, columns)\n",
    "print(\"----------------------------------------------------------------------------------------\")"
   ]
  },
  {
   "cell_type": "code",
   "execution_count": null,
   "id": "a436d193",
   "metadata": {},
   "outputs": [],
   "source": []
  }
 ],
 "metadata": {
  "kernelspec": {
   "display_name": "Python 3 (ipykernel)",
   "language": "python",
   "name": "python3"
  },
  "language_info": {
   "codemirror_mode": {
    "name": "ipython",
    "version": 3
   },
   "file_extension": ".py",
   "mimetype": "text/x-python",
   "name": "python",
   "nbconvert_exporter": "python",
   "pygments_lexer": "ipython3",
   "version": "3.9.13"
  }
 },
 "nbformat": 4,
 "nbformat_minor": 5
}
